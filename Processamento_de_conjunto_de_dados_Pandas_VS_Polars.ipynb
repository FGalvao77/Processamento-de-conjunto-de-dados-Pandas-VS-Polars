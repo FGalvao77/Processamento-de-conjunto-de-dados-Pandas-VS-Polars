{
  "nbformat": 4,
  "nbformat_minor": 0,
  "metadata": {
    "colab": {
      "provenance": [],
      "authorship_tag": "ABX9TyPCuzU/0RsMLo+GrXaz+7Eo",
      "include_colab_link": true
    },
    "kernelspec": {
      "name": "python3",
      "display_name": "Python 3"
    },
    "language_info": {
      "name": "python"
    }
  },
  "cells": [
    {
      "cell_type": "markdown",
      "metadata": {
        "id": "view-in-github",
        "colab_type": "text"
      },
      "source": [
        "<a href=\"https://colab.research.google.com/github/FGalvao77/Processamento-de-conjunto-de-dados-Pandas-VS-Polars/blob/main/Processamento_de_conjunto_de_dados_Pandas_VS_Polars.ipynb\" target=\"_parent\"><img src=\"https://colab.research.google.com/assets/colab-badge.svg\" alt=\"Open In Colab\"/></a>"
      ]
    },
    {
      "cell_type": "markdown",
      "source": [
        "<br>\n",
        "\n",
        "## **Processamento de conjunto de dados: `Pandas` _VS_ `Polars`**\n",
        "---\n",
        "---"
      ],
      "metadata": {
        "id": "178mT7X0FuWJ"
      }
    },
    {
      "cell_type": "code",
      "execution_count": 1,
      "metadata": {
        "colab": {
          "base_uri": "https://localhost:8080/"
        },
        "id": "cYpLGfBmqS5u",
        "outputId": "7e8e8212-64cf-4b53-b806-ba391b0a3bf0"
      },
      "outputs": [
        {
          "output_type": "stream",
          "name": "stdout",
          "text": [
            "Looking in indexes: https://pypi.org/simple, https://us-python.pkg.dev/colab-wheels/public/simple/\n",
            "Requirement already satisfied: polars in /usr/local/lib/python3.9/dist-packages (0.16.13)\n",
            "Requirement already satisfied: typing_extensions>=4.0.1 in /usr/local/lib/python3.9/dist-packages (from polars) (4.5.0)\n"
          ]
        }
      ],
      "source": [
        "!pip install polars"
      ]
    },
    {
      "cell_type": "code",
      "source": [
        "import pandas as pd\n",
        "import polars as pl\n",
        "\n",
        "from datetime import datetime"
      ],
      "metadata": {
        "id": "KpMM1mLNq1kU"
      },
      "execution_count": 2,
      "outputs": []
    },
    {
      "cell_type": "code",
      "source": [
        "def processing_time():\n",
        "    result = datetime.now()\n",
        "    return result"
      ],
      "metadata": {
        "id": "vjal4Hw6q1ji"
      },
      "execution_count": 3,
      "outputs": []
    },
    {
      "cell_type": "code",
      "source": [
        "def final_time(x, y):\n",
        "    print(f'Final time: {x - y}')"
      ],
      "metadata": {
        "id": "Djof82OVq1iv"
      },
      "execution_count": 4,
      "outputs": []
    },
    {
      "cell_type": "markdown",
      "source": [
        "\n",
        "\n",
        "Download: https://github.com/datablist/sample-csv-files/raw/main/files/organizations/organizations-2000000.zip"
      ],
      "metadata": {
        "id": "hTiZEdSd9D2O"
      }
    },
    {
      "cell_type": "code",
      "source": [
        "archive = '/content/organizations-2000000.csv'"
      ],
      "metadata": {
        "id": "wslnDPlSq1fM"
      },
      "execution_count": 5,
      "outputs": []
    },
    {
      "cell_type": "code",
      "source": [
        "df_pandas = pd.read_csv(filepath_or_buffer=archive)\n",
        "\n",
        "print(df_pandas.shape)\n",
        "df_pandas.head()"
      ],
      "metadata": {
        "colab": {
          "base_uri": "https://localhost:8080/",
          "height": 372
        },
        "id": "C3gx3DYNq1eh",
        "outputId": "bd14efc0-7e07-4610-a747-c9fd2de2fed6"
      },
      "execution_count": 6,
      "outputs": [
        {
          "output_type": "stream",
          "name": "stdout",
          "text": [
            "(1172408, 9)\n"
          ]
        },
        {
          "output_type": "execute_result",
          "data": {
            "text/plain": [
              "   Index  Organization Id                          Name  \\\n",
              "0      1  391dAA77fea9EC1                Daniel-Mcmahon   \n",
              "1      2  9FcCA4A23e6BcfA     Mcdowell, Tate and Murray   \n",
              "2      3  DB23330238B7B3D  Roberts, Carson and Trujillo   \n",
              "3      4  bbf18835CFbEee7  Poole, Jefferson and Merritt   \n",
              "4      5  74ECD725ceaDfd9    Ritter, Patel and Cisneros   \n",
              "\n",
              "                             Website                  Country  \\\n",
              "0           https://stuart-rios.biz/                 Cambodia   \n",
              "1                 http://jacobs.biz/                   Guyana   \n",
              "2               http://www.park.com/                   Jordan   \n",
              "3                 http://hayden.com/  Cocos (Keeling) Islands   \n",
              "4  https://www.mason-blackwell.info/                  Ecuador   \n",
              "\n",
              "                           Description  Founded             Industry  \\\n",
              "0        Focused eco-centric help-desk     2013               Sports   \n",
              "1          Front-line real-time portal     2018       Legal Services   \n",
              "2     Innovative hybrid data-warehouse     1992          Hospitality   \n",
              "3  Extended regional Graphic Interface     1991      Food Production   \n",
              "4  Re-contextualized actuating website     2019  Computer Networking   \n",
              "\n",
              "   Number of employees  \n",
              "0               1878.0  \n",
              "1               9743.0  \n",
              "2               7537.0  \n",
              "3               9974.0  \n",
              "4               5050.0  "
            ],
            "text/html": [
              "\n",
              "  <div id=\"df-8f357213-72b6-4db5-bc24-2fbc1a941c89\">\n",
              "    <div class=\"colab-df-container\">\n",
              "      <div>\n",
              "<style scoped>\n",
              "    .dataframe tbody tr th:only-of-type {\n",
              "        vertical-align: middle;\n",
              "    }\n",
              "\n",
              "    .dataframe tbody tr th {\n",
              "        vertical-align: top;\n",
              "    }\n",
              "\n",
              "    .dataframe thead th {\n",
              "        text-align: right;\n",
              "    }\n",
              "</style>\n",
              "<table border=\"1\" class=\"dataframe\">\n",
              "  <thead>\n",
              "    <tr style=\"text-align: right;\">\n",
              "      <th></th>\n",
              "      <th>Index</th>\n",
              "      <th>Organization Id</th>\n",
              "      <th>Name</th>\n",
              "      <th>Website</th>\n",
              "      <th>Country</th>\n",
              "      <th>Description</th>\n",
              "      <th>Founded</th>\n",
              "      <th>Industry</th>\n",
              "      <th>Number of employees</th>\n",
              "    </tr>\n",
              "  </thead>\n",
              "  <tbody>\n",
              "    <tr>\n",
              "      <th>0</th>\n",
              "      <td>1</td>\n",
              "      <td>391dAA77fea9EC1</td>\n",
              "      <td>Daniel-Mcmahon</td>\n",
              "      <td>https://stuart-rios.biz/</td>\n",
              "      <td>Cambodia</td>\n",
              "      <td>Focused eco-centric help-desk</td>\n",
              "      <td>2013</td>\n",
              "      <td>Sports</td>\n",
              "      <td>1878.0</td>\n",
              "    </tr>\n",
              "    <tr>\n",
              "      <th>1</th>\n",
              "      <td>2</td>\n",
              "      <td>9FcCA4A23e6BcfA</td>\n",
              "      <td>Mcdowell, Tate and Murray</td>\n",
              "      <td>http://jacobs.biz/</td>\n",
              "      <td>Guyana</td>\n",
              "      <td>Front-line real-time portal</td>\n",
              "      <td>2018</td>\n",
              "      <td>Legal Services</td>\n",
              "      <td>9743.0</td>\n",
              "    </tr>\n",
              "    <tr>\n",
              "      <th>2</th>\n",
              "      <td>3</td>\n",
              "      <td>DB23330238B7B3D</td>\n",
              "      <td>Roberts, Carson and Trujillo</td>\n",
              "      <td>http://www.park.com/</td>\n",
              "      <td>Jordan</td>\n",
              "      <td>Innovative hybrid data-warehouse</td>\n",
              "      <td>1992</td>\n",
              "      <td>Hospitality</td>\n",
              "      <td>7537.0</td>\n",
              "    </tr>\n",
              "    <tr>\n",
              "      <th>3</th>\n",
              "      <td>4</td>\n",
              "      <td>bbf18835CFbEee7</td>\n",
              "      <td>Poole, Jefferson and Merritt</td>\n",
              "      <td>http://hayden.com/</td>\n",
              "      <td>Cocos (Keeling) Islands</td>\n",
              "      <td>Extended regional Graphic Interface</td>\n",
              "      <td>1991</td>\n",
              "      <td>Food Production</td>\n",
              "      <td>9974.0</td>\n",
              "    </tr>\n",
              "    <tr>\n",
              "      <th>4</th>\n",
              "      <td>5</td>\n",
              "      <td>74ECD725ceaDfd9</td>\n",
              "      <td>Ritter, Patel and Cisneros</td>\n",
              "      <td>https://www.mason-blackwell.info/</td>\n",
              "      <td>Ecuador</td>\n",
              "      <td>Re-contextualized actuating website</td>\n",
              "      <td>2019</td>\n",
              "      <td>Computer Networking</td>\n",
              "      <td>5050.0</td>\n",
              "    </tr>\n",
              "  </tbody>\n",
              "</table>\n",
              "</div>\n",
              "      <button class=\"colab-df-convert\" onclick=\"convertToInteractive('df-8f357213-72b6-4db5-bc24-2fbc1a941c89')\"\n",
              "              title=\"Convert this dataframe to an interactive table.\"\n",
              "              style=\"display:none;\">\n",
              "        \n",
              "  <svg xmlns=\"http://www.w3.org/2000/svg\" height=\"24px\"viewBox=\"0 0 24 24\"\n",
              "       width=\"24px\">\n",
              "    <path d=\"M0 0h24v24H0V0z\" fill=\"none\"/>\n",
              "    <path d=\"M18.56 5.44l.94 2.06.94-2.06 2.06-.94-2.06-.94-.94-2.06-.94 2.06-2.06.94zm-11 1L8.5 8.5l.94-2.06 2.06-.94-2.06-.94L8.5 2.5l-.94 2.06-2.06.94zm10 10l.94 2.06.94-2.06 2.06-.94-2.06-.94-.94-2.06-.94 2.06-2.06.94z\"/><path d=\"M17.41 7.96l-1.37-1.37c-.4-.4-.92-.59-1.43-.59-.52 0-1.04.2-1.43.59L10.3 9.45l-7.72 7.72c-.78.78-.78 2.05 0 2.83L4 21.41c.39.39.9.59 1.41.59.51 0 1.02-.2 1.41-.59l7.78-7.78 2.81-2.81c.8-.78.8-2.07 0-2.86zM5.41 20L4 18.59l7.72-7.72 1.47 1.35L5.41 20z\"/>\n",
              "  </svg>\n",
              "      </button>\n",
              "      \n",
              "  <style>\n",
              "    .colab-df-container {\n",
              "      display:flex;\n",
              "      flex-wrap:wrap;\n",
              "      gap: 12px;\n",
              "    }\n",
              "\n",
              "    .colab-df-convert {\n",
              "      background-color: #E8F0FE;\n",
              "      border: none;\n",
              "      border-radius: 50%;\n",
              "      cursor: pointer;\n",
              "      display: none;\n",
              "      fill: #1967D2;\n",
              "      height: 32px;\n",
              "      padding: 0 0 0 0;\n",
              "      width: 32px;\n",
              "    }\n",
              "\n",
              "    .colab-df-convert:hover {\n",
              "      background-color: #E2EBFA;\n",
              "      box-shadow: 0px 1px 2px rgba(60, 64, 67, 0.3), 0px 1px 3px 1px rgba(60, 64, 67, 0.15);\n",
              "      fill: #174EA6;\n",
              "    }\n",
              "\n",
              "    [theme=dark] .colab-df-convert {\n",
              "      background-color: #3B4455;\n",
              "      fill: #D2E3FC;\n",
              "    }\n",
              "\n",
              "    [theme=dark] .colab-df-convert:hover {\n",
              "      background-color: #434B5C;\n",
              "      box-shadow: 0px 1px 3px 1px rgba(0, 0, 0, 0.15);\n",
              "      filter: drop-shadow(0px 1px 2px rgba(0, 0, 0, 0.3));\n",
              "      fill: #FFFFFF;\n",
              "    }\n",
              "  </style>\n",
              "\n",
              "      <script>\n",
              "        const buttonEl =\n",
              "          document.querySelector('#df-8f357213-72b6-4db5-bc24-2fbc1a941c89 button.colab-df-convert');\n",
              "        buttonEl.style.display =\n",
              "          google.colab.kernel.accessAllowed ? 'block' : 'none';\n",
              "\n",
              "        async function convertToInteractive(key) {\n",
              "          const element = document.querySelector('#df-8f357213-72b6-4db5-bc24-2fbc1a941c89');\n",
              "          const dataTable =\n",
              "            await google.colab.kernel.invokeFunction('convertToInteractive',\n",
              "                                                     [key], {});\n",
              "          if (!dataTable) return;\n",
              "\n",
              "          const docLinkHtml = 'Like what you see? Visit the ' +\n",
              "            '<a target=\"_blank\" href=https://colab.research.google.com/notebooks/data_table.ipynb>data table notebook</a>'\n",
              "            + ' to learn more about interactive tables.';\n",
              "          element.innerHTML = '';\n",
              "          dataTable['output_type'] = 'display_data';\n",
              "          await google.colab.output.renderOutput(dataTable, element);\n",
              "          const docLink = document.createElement('div');\n",
              "          docLink.innerHTML = docLinkHtml;\n",
              "          element.appendChild(docLink);\n",
              "        }\n",
              "      </script>\n",
              "    </div>\n",
              "  </div>\n",
              "  "
            ]
          },
          "metadata": {},
          "execution_count": 6
        }
      ]
    },
    {
      "cell_type": "code",
      "source": [
        "df_pandas.info()"
      ],
      "metadata": {
        "colab": {
          "base_uri": "https://localhost:8080/"
        },
        "id": "36DsrinHEJDO",
        "outputId": "ee9488fd-c98e-46fa-e4b6-c40b53cd357c"
      },
      "execution_count": 7,
      "outputs": [
        {
          "output_type": "stream",
          "name": "stdout",
          "text": [
            "<class 'pandas.core.frame.DataFrame'>\n",
            "RangeIndex: 1172408 entries, 0 to 1172407\n",
            "Data columns (total 9 columns):\n",
            " #   Column               Non-Null Count    Dtype  \n",
            "---  ------               --------------    -----  \n",
            " 0   Index                1172408 non-null  int64  \n",
            " 1   Organization Id      1172408 non-null  object \n",
            " 2   Name                 1172408 non-null  object \n",
            " 3   Website              1172408 non-null  object \n",
            " 4   Country              1172408 non-null  object \n",
            " 5   Description          1172408 non-null  object \n",
            " 6   Founded              1172408 non-null  int64  \n",
            " 7   Industry             1172408 non-null  object \n",
            " 8   Number of employees  1172407 non-null  float64\n",
            "dtypes: float64(1), int64(2), object(6)\n",
            "memory usage: 80.5+ MB\n"
          ]
        }
      ]
    },
    {
      "cell_type": "code",
      "source": [
        "init = processing_time()\n",
        "df_pandas = pd.read_csv(filepath_or_buffer=archive)\n",
        "end = processing_time()\n",
        "\n",
        "print(df_pandas.shape)\n",
        "final_time(end, init)"
      ],
      "metadata": {
        "colab": {
          "base_uri": "https://localhost:8080/"
        },
        "id": "7InO-MNqy9zM",
        "outputId": "d4aa0ab1-24e9-46d2-a537-6894174062b6"
      },
      "execution_count": 9,
      "outputs": [
        {
          "output_type": "stream",
          "name": "stdout",
          "text": [
            "(1172408, 9)\n",
            "Final time: 0:00:03.221334\n"
          ]
        }
      ]
    },
    {
      "cell_type": "code",
      "source": [],
      "metadata": {
        "id": "_vAy9jekE2YC"
      },
      "execution_count": null,
      "outputs": []
    },
    {
      "cell_type": "code",
      "source": [
        "df_polars = pl.read_csv(source=archive)\n",
        "\n",
        "print(df_polars.shape)\n",
        "df_polars.head()"
      ],
      "metadata": {
        "colab": {
          "base_uri": "https://localhost:8080/",
          "height": 272
        },
        "id": "oc3Z4hM7zmta",
        "outputId": "da3600d4-9b82-45a3-a7dc-fb4650958787"
      },
      "execution_count": 10,
      "outputs": [
        {
          "output_type": "stream",
          "name": "stdout",
          "text": [
            "(1172408, 9)\n"
          ]
        },
        {
          "output_type": "execute_result",
          "data": {
            "text/plain": [
              "shape: (5, 9)\n",
              "┌───────┬────────────┬────────────┬───────────┬─────┬───────────┬─────────┬───────────┬────────────┐\n",
              "│ Index ┆ Organizati ┆ Name       ┆ Website   ┆ ... ┆ Descripti ┆ Founded ┆ Industry  ┆ Number of  │\n",
              "│ ---   ┆ on Id      ┆ ---        ┆ ---       ┆     ┆ on        ┆ ---     ┆ ---       ┆ employees  │\n",
              "│ i64   ┆ ---        ┆ str        ┆ str       ┆     ┆ ---       ┆ i64     ┆ str       ┆ ---        │\n",
              "│       ┆ str        ┆            ┆           ┆     ┆ str       ┆         ┆           ┆ i64        │\n",
              "╞═══════╪════════════╪════════════╪═══════════╪═════╪═══════════╪═════════╪═══════════╪════════════╡\n",
              "│ 1     ┆ 391dAA77fe ┆ Daniel-Mcm ┆ https://s ┆ ... ┆ Focused   ┆ 2013    ┆ Sports    ┆ 1878       │\n",
              "│       ┆ a9EC1      ┆ ahon       ┆ tuart-rio ┆     ┆ eco-centr ┆         ┆           ┆            │\n",
              "│       ┆            ┆            ┆ s.biz/    ┆     ┆ ic        ┆         ┆           ┆            │\n",
              "│       ┆            ┆            ┆           ┆     ┆ help-desk ┆         ┆           ┆            │\n",
              "│ 2     ┆ 9FcCA4A23e ┆ Mcdowell,  ┆ http://ja ┆ ... ┆ Front-lin ┆ 2018    ┆ Legal     ┆ 9743       │\n",
              "│       ┆ 6BcfA      ┆ Tate and   ┆ cobs.biz/ ┆     ┆ e         ┆         ┆ Services  ┆            │\n",
              "│       ┆            ┆ Murray     ┆           ┆     ┆ real-time ┆         ┆           ┆            │\n",
              "│       ┆            ┆            ┆           ┆     ┆ portal    ┆         ┆           ┆            │\n",
              "│ 3     ┆ DB23330238 ┆ Roberts,   ┆ http://ww ┆ ... ┆ Innovativ ┆ 1992    ┆ Hospitali ┆ 7537       │\n",
              "│       ┆ B7B3D      ┆ Carson and ┆ w.park.co ┆     ┆ e hybrid  ┆         ┆ ty        ┆            │\n",
              "│       ┆            ┆ Trujillo   ┆ m/        ┆     ┆ data-ware ┆         ┆           ┆            │\n",
              "│       ┆            ┆            ┆           ┆     ┆ house     ┆         ┆           ┆            │\n",
              "│ 4     ┆ bbf18835CF ┆ Poole,     ┆ http://ha ┆ ... ┆ Extended  ┆ 1991    ┆ Food Prod ┆ 9974       │\n",
              "│       ┆ bEee7      ┆ Jefferson  ┆ yden.com/ ┆     ┆ regional  ┆         ┆ uction    ┆            │\n",
              "│       ┆            ┆ and        ┆           ┆     ┆ Graphic   ┆         ┆           ┆            │\n",
              "│       ┆            ┆ Merritt    ┆           ┆     ┆ Interf... ┆         ┆           ┆            │\n",
              "│ 5     ┆ 74ECD725ce ┆ Ritter,    ┆ https://w ┆ ... ┆ Re-contex ┆ 2019    ┆ Computer  ┆ 5050       │\n",
              "│       ┆ aDfd9      ┆ Patel and  ┆ ww.mason- ┆     ┆ tualized  ┆         ┆ Networkin ┆            │\n",
              "│       ┆            ┆ Cisneros   ┆ blackwell ┆     ┆ actuating ┆         ┆ g         ┆            │\n",
              "│       ┆            ┆            ┆ .info...  ┆     ┆ webs...   ┆         ┆           ┆            │\n",
              "└───────┴────────────┴────────────┴───────────┴─────┴───────────┴─────────┴───────────┴────────────┘"
            ],
            "text/html": [
              "<div><style>\n",
              ".dataframe > thead > tr > th,\n",
              ".dataframe > tbody > tr > td {\n",
              "  text-align: right;\n",
              "}\n",
              "</style>\n",
              "<small>shape: (5, 9)</small><table border=\"1\" class=\"dataframe\"><thead><tr><th>Index</th><th>Organization Id</th><th>Name</th><th>Website</th><th>Country</th><th>Description</th><th>Founded</th><th>Industry</th><th>Number of employees</th></tr><tr><td>i64</td><td>str</td><td>str</td><td>str</td><td>str</td><td>str</td><td>i64</td><td>str</td><td>i64</td></tr></thead><tbody><tr><td>1</td><td>&quot;391dAA77fea9EC...</td><td>&quot;Daniel-Mcmahon...</td><td>&quot;https://stuart...</td><td>&quot;Cambodia&quot;</td><td>&quot;Focused eco-ce...</td><td>2013</td><td>&quot;Sports&quot;</td><td>1878</td></tr><tr><td>2</td><td>&quot;9FcCA4A23e6Bcf...</td><td>&quot;Mcdowell, Tate...</td><td>&quot;http://jacobs....</td><td>&quot;Guyana&quot;</td><td>&quot;Front-line rea...</td><td>2018</td><td>&quot;Legal Services...</td><td>9743</td></tr><tr><td>3</td><td>&quot;DB23330238B7B3...</td><td>&quot;Roberts, Carso...</td><td>&quot;http://www.par...</td><td>&quot;Jordan&quot;</td><td>&quot;Innovative hyb...</td><td>1992</td><td>&quot;Hospitality&quot;</td><td>7537</td></tr><tr><td>4</td><td>&quot;bbf18835CFbEee...</td><td>&quot;Poole, Jeffers...</td><td>&quot;http://hayden....</td><td>&quot;Cocos (Keeling...</td><td>&quot;Extended regio...</td><td>1991</td><td>&quot;Food Productio...</td><td>9974</td></tr><tr><td>5</td><td>&quot;74ECD725ceaDfd...</td><td>&quot;Ritter, Patel ...</td><td>&quot;https://www.ma...</td><td>&quot;Ecuador&quot;</td><td>&quot;Re-contextuali...</td><td>2019</td><td>&quot;Computer Netwo...</td><td>5050</td></tr></tbody></table></div>"
            ]
          },
          "metadata": {},
          "execution_count": 10
        }
      ]
    },
    {
      "cell_type": "code",
      "source": [
        "df_polars.schema"
      ],
      "metadata": {
        "colab": {
          "base_uri": "https://localhost:8080/"
        },
        "id": "K9mNa9fDEf-K",
        "outputId": "0eef4a8d-2bf2-4270-9cde-8e7a0764489c"
      },
      "execution_count": 16,
      "outputs": [
        {
          "output_type": "execute_result",
          "data": {
            "text/plain": [
              "{'Index': Int64,\n",
              " 'Organization Id': Utf8,\n",
              " 'Name': Utf8,\n",
              " 'Website': Utf8,\n",
              " 'Country': Utf8,\n",
              " 'Description': Utf8,\n",
              " 'Founded': Int64,\n",
              " 'Industry': Utf8,\n",
              " 'Number of employees': Int64}"
            ]
          },
          "metadata": {},
          "execution_count": 16
        }
      ]
    },
    {
      "cell_type": "code",
      "source": [
        "init = processing_time()\n",
        "df_polars = pl.read_csv(source=archive)\n",
        "end = processing_time()\n",
        "\n",
        "print(df_polars.shape)\n",
        "final_time(end, init)"
      ],
      "metadata": {
        "colab": {
          "base_uri": "https://localhost:8080/"
        },
        "id": "v-BnYJ2wq1dy",
        "outputId": "753e1865-7605-46a5-f821-67e82b8d0b9e"
      },
      "execution_count": 12,
      "outputs": [
        {
          "output_type": "stream",
          "name": "stdout",
          "text": [
            "(1172408, 9)\n",
            "Final time: 0:00:00.487789\n"
          ]
        }
      ]
    },
    {
      "cell_type": "code",
      "source": [],
      "metadata": {
        "id": "EvAsSl2Zq1c7"
      },
      "execution_count": 49,
      "outputs": []
    },
    {
      "cell_type": "code",
      "source": [],
      "metadata": {
        "id": "PstWD8C5CQ7l"
      },
      "execution_count": null,
      "outputs": []
    },
    {
      "cell_type": "code",
      "source": [],
      "metadata": {
        "id": "BmhMLrPsCQvG"
      },
      "execution_count": null,
      "outputs": []
    }
  ]
}